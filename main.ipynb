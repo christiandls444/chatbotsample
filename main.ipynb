{
 "cells": [
  {
   "cell_type": "code",
   "execution_count": 14,
   "id": "49b7519b",
   "metadata": {},
   "outputs": [],
   "source": [
    "import pandas as pd\n",
    "from sklearn.feature_extraction.text import TfidfVectorizer\n",
    "from sklearn.metrics.pairwise import cosine_similarity\n",
    "\n",
    "# Load the dataset\n",
    "dataset_path = \"chatbot.xlsx\"  # Update with the actual path\n",
    "df = pd.read_excel(dataset_path)\n",
    "\n",
    "# Convert questions to string\n",
    "df['questions'] = df['questions'].astype(str)\n",
    "\n",
    "# Preprocess data\n",
    "df['processed_question'] = df['questions'].apply(lambda x: x.lower())\n",
    "\n",
    "# Create a TF-IDF vectorizer\n",
    "tfidf_vectorizer = TfidfVectorizer()\n",
    "\n",
    "# Fit and transform the questions\n",
    "tfidf_matrix = tfidf_vectorizer.fit_transform(df['processed_question'])\n",
    "\n",
    "def get_response(query):\n",
    "    query_vector = tfidf_vectorizer.transform([query.lower()])\n",
    "    similarity_scores = cosine_similarity(query_vector, tfidf_matrix)\n",
    "    \n",
    "    best_match_index = similarity_scores.argmax()\n",
    "    best_answer = df['answers'][best_match_index]\n",
    "    return best_answer\n"
   ]
  },
  {
   "cell_type": "code",
   "execution_count": 15,
   "id": "ab2ccd11",
   "metadata": {},
   "outputs": [
    {
     "name": "stdout",
     "output_type": "stream",
     "text": [
      "Welcome to the Egypt Tourist FAQ Chatbot!\n",
      "Ask a question about Egypt tourism (or type 'exit' to quit): he\n",
      "\n",
      "Chatbot: Arabic is the official language of Egypt, spoken by the entire population of over 100 million citizens. In urban centers and popular tourist destinations, many locals understand and are fluent in English. In tourist areas, other European languages—such as French, Russian, Ukrainian, Spanish, and Italian—are also commonly spoken.\n",
      "Ask a question about Egypt tourism (or type 'exit' to quit): hwy\n",
      "\n",
      "Chatbot: Arabic is the official language of Egypt, spoken by the entire population of over 100 million citizens. In urban centers and popular tourist destinations, many locals understand and are fluent in English. In tourist areas, other European languages—such as French, Russian, Ukrainian, Spanish, and Italian—are also commonly spoken.\n",
      "Ask a question about Egypt tourism (or type 'exit' to quit): hwy\n",
      "\n",
      "Chatbot: Arabic is the official language of Egypt, spoken by the entire population of over 100 million citizens. In urban centers and popular tourist destinations, many locals understand and are fluent in English. In tourist areas, other European languages—such as French, Russian, Ukrainian, Spanish, and Italian—are also commonly spoken.\n",
      "Ask a question about Egypt tourism (or type 'exit' to quit): hey\n",
      "\n",
      "Chatbot: Hi! How can I assist you today?\n",
      "Ask a question about Egypt tourism (or type 'exit' to quit): good morning\n",
      "\n",
      "Chatbot: Hi! How can I assist you today?\n",
      "Ask a question about Egypt tourism (or type 'exit' to quit): hi\n",
      "\n",
      "Chatbot: Hi! How can I assist you today?\n",
      "Ask a question about Egypt tourism (or type 'exit' to quit): how to but ticket\n",
      "\n",
      "Chatbot: Over 180 nationalities qualify for getting a tourist visa upon arrival, provided the passport holder has a valid and used visa for the United States of America, the United Kingdom, the Schengen Area (Schengen visa), Japan, Canada, Australia, or New Zealand. Additionally, 78 nationalities qualify for a visa upon arrival or getting an electronic visa via our portal. You can check the full list of eligible countries and apply and pay for your visa online using Egypt’s Visa online application portal, Egypt Visa; through all Egyptian Consulates; or get your visa upon arrival for 25 USD from the bank counter in the passport control area at the airport. If you’re travelling to Sharm al-Sheikh, Dahab, Nuweiba, and Taba for up to 15 days, you will receive a free entry permit stamp upon arrival. If you intend to travel out of these areas or stay longer than 15 days, you must get a visa. Some nationalities are required to process their visa applications through their nearest consulate ahead of their trip to Egypt.\n",
      "Ask a question about Egypt tourism (or type 'exit' to quit): how to buy ticket to go to egypt\n",
      "\n",
      "Chatbot: You can purchase entry tickets at the door or online via the Ministry of Tourism and Antiquities’ official website at: https://egymonuments.gov.eg/en\n",
      "Ask a question about Egypt tourism (or type 'exit' to quit): good day\n",
      "\n",
      "Chatbot: Hi! How can I assist you today?\n",
      "Ask a question about Egypt tourism (or type 'exit' to quit): exit\n"
     ]
    }
   ],
   "source": [
    "# Interactive loop\n",
    "print(\"Welcome to the Egypt Tourist FAQ Chatbot!\")\n",
    "while True:\n",
    "    user_query = input(\"Ask a question about Egypt tourism (or type 'exit' to quit): \")\n",
    "    \n",
    "    if user_query.lower() == 'exit':\n",
    "        break\n",
    "    \n",
    "    chatbot_response = get_response(user_query)\n",
    "    print(\"\\nChatbot:\", chatbot_response)"
   ]
  },
  {
   "cell_type": "code",
   "execution_count": null,
   "id": "71e72cad",
   "metadata": {},
   "outputs": [],
   "source": []
  }
 ],
 "metadata": {
  "kernelspec": {
   "display_name": "Python 3 (ipykernel)",
   "language": "python",
   "name": "python3"
  },
  "language_info": {
   "codemirror_mode": {
    "name": "ipython",
    "version": 3
   },
   "file_extension": ".py",
   "mimetype": "text/x-python",
   "name": "python",
   "nbconvert_exporter": "python",
   "pygments_lexer": "ipython3",
   "version": "3.10.9"
  }
 },
 "nbformat": 4,
 "nbformat_minor": 5
}
